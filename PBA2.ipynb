{
 "cells": [
  {
   "cell_type": "raw",
   "id": "6c6a264b",
   "metadata": {},
   "source": [
    "1.What are the two values of the Boolean data type? How do you write them?  \n",
    "   True and false"
   ]
  },
  {
   "cell_type": "raw",
   "id": "9c8c7955",
   "metadata": {},
   "source": [
    "2. What are the three different types of Boolean operators?\n",
    "   AND,OR,NOT"
   ]
  },
  {
   "cell_type": "raw",
   "id": "92af72f0",
   "metadata": {},
   "source": [
    "3. Make a list of each Boolean operator truth tables (i.e. every possible combination of Boolean\n",
    "values for the operator and what it evaluate ).\n",
    "   AND-   True    True  True           OR- True  True  False      NOT-  True  False \n",
    "          True    False  False             True  False True              False True \n",
    "          False   True   False             False True True\n",
    "          False    False  False            False False False"
   ]
  },
  {
   "cell_type": "raw",
   "id": "51df99cd",
   "metadata": {},
   "source": [
    "4. What are the values of the following expressions?\n",
    "(5 &gt; 4) and (3 == 5)=False\n",
    "not (5 &gt; 4)=False\n",
    "(5 &gt; 4) or (3 == 5)=TRUE\n",
    "not ((5 &gt; 4) or (3 == 5))=FALSE\n",
    "(True and True) and (True == False)=FALSE\n",
    "(not False) or (not True)=TRUE\n"
   ]
  },
  {
   "cell_type": "raw",
   "id": "12b4e73e",
   "metadata": {},
   "source": [
    "5. What are the six comparison operators?\n",
    "  Less then,greter then,greter then or equal to,less then or equal to,equal to and not equal to operator."
   ]
  },
  {
   "cell_type": "raw",
   "id": "134c144b",
   "metadata": {},
   "source": [
    "6. How do you tell the difference between the equal to and assignment operators?Describe a\n",
    "condition and when you would use one.\n",
    "ans-the assignment operator and equal to operator to be similar but are used for completely different reasons.assignmentvoperator is used to assign a value to a variable element of an array.\n",
    "ex-var username = \"pooja\".\n",
    "the equality operator is used to compare two values or expressions,it is used to compare number ,string,boolean values,variables,objects,arrays or functions.\n",
    "ex-username == \"pooja\"     !!True"
   ]
  },
  {
   "cell_type": "raw",
   "id": "0a4fdae9",
   "metadata": {},
   "source": [
    "7. Identify the three blocks in this code:\n",
    "spam = 0\n",
    "if spam == 10:\n",
    "print(&#39;eggs&#39;)\n",
    "if spam &gt; 5:\n",
    "print(&#39;bacon&#39;)\n",
    "else:\n",
    "print(&#39;ham&#39;)\n",
    "print(&#39;spam&#39;)\n",
    "print(&#39;spam&#39;)\n",
    "ans-spam = 0\n",
    "if spam == 10:\n",
    "    print('eggs')        # indent increased, block A\n",
    "    if spam > 5:         # still block A\n",
    "        print('bacon')   # still block A, indent increased, block B inside block A\n",
    "    else:                # still block A, indent decreased, block B ended in line above\n",
    "        print('ham')     # still block A, indent increased, block C inside block A\n",
    "    print('spam')        # still block A, indent decreased, block C ended in line above\n",
    "print('spam')            # indent decreased, block A ended in line above"
   ]
  },
  {
   "cell_type": "code",
   "execution_count": 15,
   "id": "c0172dbf",
   "metadata": {},
   "outputs": [
    {
     "name": "stdout",
     "output_type": "stream",
     "text": [
      "2\n",
      "howdy\n"
     ]
    }
   ],
   "source": [
    "#8. Write code that prints Hello if 1 is stored in spam, prints Howdy if 2 is stored in spam, and prints\n",
    "#Greetings! if anything else is stored in spam.\n",
    "spam = int(input())\n",
    "if spam == 1:\n",
    "    print('hello')\n",
    "elif spam == 2:\n",
    "    print('howdy')\n",
    "else:\n",
    "    print('greetings!')"
   ]
  },
  {
   "cell_type": "raw",
   "id": "f378b2b1",
   "metadata": {},
   "source": [
    "9.If your programme is stuck in an endless loop, what keys you’ll press?\n",
    "  ctrl+c"
   ]
  },
  {
   "cell_type": "raw",
   "id": "f8e444c9",
   "metadata": {},
   "source": [
    "10. How can you tell the difference between break and continue?\n",
    "\n",
    "Break statements exist to exit or “break” a python for loop or while conditional loop. When the loop ends, the code picks up from and executes the next line immediately following the loop that was broken.\n",
    "\n",
    "\n",
    "numbers = (1, 2, 3)\n",
    "num_sum = 0\n",
    "count = 0\n",
    "for x in numbers:\n",
    "        num_sum = num_sum + x\n",
    "        count = count + 1\n",
    "        print(count)\n",
    "        if count == 2:\n",
    "                break\n",
    "In this example, the loop will break after the count is equal to 2.\n",
    "\n",
    "The continue statement is used to skip code within a loop for certain iterations of the loop. After the code is skipped, the loop continues where it left off.\n",
    "You are here: Home / Basics / Break and Continue Statements\n",
    "Break and Continue Statements\n",
    "Author: PFB Staff Writer\n",
    "Last Updated: December 3, 2021\n",
    "\n",
    "Break statements exist to exit or “break” a python for loop or while conditional loop. When the loop ends, the code picks up from and executes the next line immediately following the loop that was broken.\n",
    "\n",
    "\n",
    "numbers = (1, 2, 3)\n",
    "num_sum = 0\n",
    "count = 0\n",
    "for x in numbers:\n",
    "        num_sum = num_sum + x\n",
    "        count = count + 1\n",
    "        print(count)\n",
    "        if count == 2:\n",
    "                break\n",
    "In this example, the loop will break after the count is equal to 2.\n",
    "\n",
    "The continue statement is used to skip code within a loop for certain iterations of the loop. After the code is skipped, the loop continues where it left off.\n",
    "\n",
    "\n",
    "\n",
    "\n",
    "for x in range(4):\n",
    "   if (x==2):\n",
    "      continue\n",
    "   print(x)\n",
    "This example would print all numbers from 0-4 except 2"
   ]
  },
  {
   "cell_type": "raw",
   "id": "f711755d",
   "metadata": {},
   "source": [
    "11. In a for loop, what is the difference between range(10), range(0, 10), and range(0, 10, 1)?\n",
    "ans:there is no differance"
   ]
  },
  {
   "cell_type": "raw",
   "id": "d490398e",
   "metadata": {},
   "source": [
    "12. Write a short program that prints the numbers 1 to 10 using a for loop. Then write an equivalent\n",
    "program that prints the numbers 1 to 10 using a while loop.\n",
    "ans-for loop-for i in range(1,11):\n",
    "                  print(i, end=' ')    \n",
    "    while loop- i = 1\n",
    "                while(i<=10):\n",
    "                  print(i)\n",
    "                   i += 1"
   ]
  },
  {
   "cell_type": "code",
   "execution_count": null,
   "id": "d4289866",
   "metadata": {},
   "outputs": [],
   "source": [
    "13. If you had a function named bacon() inside a module named spam, how would you call it after\n",
    "importing spam?\n",
    "ans- import spam\n",
    "       spam.bacon()"
   ]
  }
 ],
 "metadata": {
  "kernelspec": {
   "display_name": "Python 3 (ipykernel)",
   "language": "python",
   "name": "python3"
  },
  "language_info": {
   "codemirror_mode": {
    "name": "ipython",
    "version": 3
   },
   "file_extension": ".py",
   "mimetype": "text/x-python",
   "name": "python",
   "nbconvert_exporter": "python",
   "pygments_lexer": "ipython3",
   "version": "3.9.7"
  }
 },
 "nbformat": 4,
 "nbformat_minor": 5
}
